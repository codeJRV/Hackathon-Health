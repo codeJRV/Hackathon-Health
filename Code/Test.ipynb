{
 "cells": [
  {
   "cell_type": "code",
   "execution_count": 1,
   "metadata": {},
   "outputs": [
    {
     "ename": "TabError",
     "evalue": "inconsistent use of tabs and spaces in indentation (<ipython-input-1-e554bc5680cb>, line 47)",
     "output_type": "error",
     "traceback": [
      "\u001b[1;36m  File \u001b[1;32m\"<ipython-input-1-e554bc5680cb>\"\u001b[1;36m, line \u001b[1;32m47\u001b[0m\n\u001b[1;33m    \"\"\"Speak a word or phrase\"\"\"\u001b[0m\n\u001b[1;37m                                ^\u001b[0m\n\u001b[1;31mTabError\u001b[0m\u001b[1;31m:\u001b[0m inconsistent use of tabs and spaces in indentation\n"
     ]
    }
   ],
   "source": [
    "from win32com.client import constants\n",
    "import win32com.client\n",
    "import pythoncom\n",
    "\n",
    "\"\"\"Sample code for using the Microsoft Speech SDK 5.1 via COM in Python.\n",
    "    Requires that the SDK be installed (it's a free download from\n",
    "            http://www.microsoft.com/speech\n",
    "    and that MakePy has been used on it (in PythonWin,\n",
    "    select Tools | COM MakePy Utility | Microsoft Speech Object Library 5.1).\n",
    "\n",
    "    After running this, then saying \"One\", \"Two\", \"Three\" or \"Four\" should\n",
    "    display \"You said One\" etc on the console. The recognition can be a bit\n",
    "    shaky at first until you've trained it (via the Speech entry in the Windows\n",
    "    Control Panel.\"\"\"\n",
    "class SpeechRecognition:\n",
    "    \"\"\" Initialize the speech recognition with the passed in list of words \"\"\"\n",
    "    def __init__(self, wordsToAdd):\n",
    "        # For text-to-speech\n",
    "        self.speaker = win32com.client.Dispatch(\"SAPI.SpVoice\")\n",
    "        # For speech recognition - first create a listener\n",
    "        self.listener = win32com.client.Dispatch(\"SAPI.SpSharedRecognizer\")\n",
    "        # Then a recognition context\n",
    "        self.context = self.listener.CreateRecoContext()\n",
    "        # which has an associated grammar\n",
    "        self.grammar = self.context.CreateGrammar()\n",
    "        # Do not allow free word recognition - only command and control\n",
    "\t\t\t# recognizing the words in the grammar only\n",
    "        self.grammar.DictationSetState(0)\n",
    "        # Create a new rule for the grammar, that is top level (so it begins\n",
    "\t\t\t# a recognition) and dynamic (ie we can change it at runtime)\n",
    "        self.wordsRule = self.grammar.Rules.Add(\"wordsRule\",\n",
    "                        constants.SRATopLevel + constants.SRADynamic, 0)\n",
    "        # Clear the rule (not necessary first time, but if we're changing it\n",
    "\t\t\t# dynamically then it's useful)\n",
    "        self.wordsRule.Clear()\n",
    "        # And go through the list of words, adding each to the rule\n",
    "        [ self.wordsRule.InitialState.AddWordTransition(None, word) for word in wordsToAdd ]\n",
    "        # Set the wordsRule to be active\n",
    "        self.grammar.Rules.Commit()\n",
    "        self.grammar.CmdSetRuleState(\"wordsRule\", 1)\n",
    "        # Commit the changes to the grammar\n",
    "        self.grammar.Rules.Commit()\n",
    "        # And add an event handler that's called back when recognition occurs\n",
    "        self.eventHandler = ContextEvents(self.context)\n",
    "        # Announce we've started\n",
    "        self.say(\"Started successfully\")\n",
    "\t\"\"\"Speak a word or phrase\"\"\"\n",
    "    def say(self, phrase):\n",
    "        self.speaker.Speak(phrase)\n",
    "\n",
    "\n",
    "\"\"\"The callback class that handles the events raised by the speech object.\n",
    "    See \"Automation | SpSharedRecoContext (Events)\" in the MS Speech SDK\n",
    "    online help for documentation of the other events supported. \"\"\"\n",
    "class ContextEvents(win32com.client.getevents(\"SAPI.SpSharedRecoContext\")):\n",
    "    \"\"\"Called when a word/phrase is successfully recognized  -\n",
    "        ie it is found in a currently open grammar with a sufficiently high\n",
    "\tconfidence\"\"\"\n",
    "    def OnRecognition(self, StreamNumber, StreamPosition, RecognitionType, Result):\n",
    "        newResult = win32com.client.Dispatch(Result)\n",
    "        print \"You said: \",newResult.PhraseInfo.GetText()\n",
    "    \n",
    "if __name__=='__main__':\n",
    "    wordsToAdd = [ \"One\", \"Two\", \"Three\", \"Four\" ]\n",
    "    speechReco = SpeechRecognition(wordsToAdd)\n",
    "    while 1:\n",
    "        pythoncom.PumpWaitingMessages()"
   ]
  },
  {
   "cell_type": "code",
   "execution_count": 11,
   "metadata": {},
   "outputs": [
    {
     "ename": "RuntimeError",
     "evalue": "new_Decoder returned -1",
     "output_type": "error",
     "traceback": [
      "\u001b[1;31m---------------------------------------------------------------------------\u001b[0m",
      "\u001b[1;31mRuntimeError\u001b[0m                              Traceback (most recent call last)",
      "\u001b[1;32m<ipython-input-11-e5005fe9b34e>\u001b[0m in \u001b[0;36m<module>\u001b[1;34m()\u001b[0m\n\u001b[0;32m     10\u001b[0m \u001b[1;33m\u001b[0m\u001b[0m\n\u001b[0;32m     11\u001b[0m \u001b[1;31m# Creaders decoder object for streaming data.\u001b[0m\u001b[1;33m\u001b[0m\u001b[1;33m\u001b[0m\u001b[0m\n\u001b[1;32m---> 12\u001b[1;33m \u001b[0mdecoder\u001b[0m \u001b[1;33m=\u001b[0m \u001b[0mDecoder\u001b[0m\u001b[1;33m(\u001b[0m\u001b[1;33m)\u001b[0m\u001b[1;33m\u001b[0m\u001b[0m\n\u001b[0m",
      "\u001b[1;32m~\\AppData\\Local\\conda\\conda\\envs\\Hackathon\\lib\\site-packages\\pocketsphinx\\pocketsphinx.py\u001b[0m in \u001b[0;36m__init__\u001b[1;34m(self, *args)\u001b[0m\n\u001b[0;32m    273\u001b[0m         \u001b[0m__init__\u001b[0m\u001b[1;33m(\u001b[0m\u001b[0mDecoder\u001b[0m \u001b[0mself\u001b[0m\u001b[1;33m,\u001b[0m \u001b[0mConfig\u001b[0m \u001b[0mconfig\u001b[0m\u001b[1;33m)\u001b[0m \u001b[1;33m->\u001b[0m \u001b[0mDecoder\u001b[0m\u001b[1;33m\u001b[0m\u001b[0m\n\u001b[0;32m    274\u001b[0m         \"\"\"\n\u001b[1;32m--> 275\u001b[1;33m         \u001b[0mthis\u001b[0m \u001b[1;33m=\u001b[0m \u001b[0m_pocketsphinx\u001b[0m\u001b[1;33m.\u001b[0m\u001b[0mnew_Decoder\u001b[0m\u001b[1;33m(\u001b[0m\u001b[1;33m*\u001b[0m\u001b[0margs\u001b[0m\u001b[1;33m)\u001b[0m\u001b[1;33m\u001b[0m\u001b[0m\n\u001b[0m\u001b[0;32m    276\u001b[0m         \u001b[1;32mtry\u001b[0m\u001b[1;33m:\u001b[0m\u001b[1;33m\u001b[0m\u001b[0m\n\u001b[0;32m    277\u001b[0m             \u001b[0mself\u001b[0m\u001b[1;33m.\u001b[0m\u001b[0mthis\u001b[0m\u001b[1;33m.\u001b[0m\u001b[0mappend\u001b[0m\u001b[1;33m(\u001b[0m\u001b[0mthis\u001b[0m\u001b[1;33m)\u001b[0m\u001b[1;33m\u001b[0m\u001b[0m\n",
      "\u001b[1;31mRuntimeError\u001b[0m: new_Decoder returned -1"
     ]
    }
   ],
   "source": []
  },
  {
   "cell_type": "code",
   "execution_count": null,
   "metadata": {
    "collapsed": true
   },
   "outputs": [],
   "source": []
  }
 ],
 "metadata": {
  "kernelspec": {
   "display_name": "Python 3",
   "language": "python",
   "name": "python3"
  },
  "language_info": {
   "codemirror_mode": {
    "name": "ipython",
    "version": 3
   },
   "file_extension": ".py",
   "mimetype": "text/x-python",
   "name": "python",
   "nbconvert_exporter": "python",
   "pygments_lexer": "ipython3",
   "version": "3.6.1"
  }
 },
 "nbformat": 4,
 "nbformat_minor": 2
}
